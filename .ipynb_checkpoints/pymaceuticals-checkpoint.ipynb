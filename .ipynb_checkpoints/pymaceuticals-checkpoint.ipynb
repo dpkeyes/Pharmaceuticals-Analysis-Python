{
 "cells": [
  {
   "cell_type": "code",
   "execution_count": 48,
   "metadata": {},
   "outputs": [],
   "source": [
    "# SETTING THINGS UP\n",
    "#------------------------------\n",
    "\n",
    "# Dependencies and setup\n",
    "%matplotlib inline\n",
    "import matplotlib.pyplot as plt\n",
    "import pandas as pd\n",
    "import numpy as np\n",
    "\n",
    "# Hide warning messages in notebook\n",
    "import warnings\n",
    "warnings.filterwarnings('ignore')\n",
    "\n",
    "# Configure Jupyter notebook to show all outputs from cell\n",
    "#from IPython.core.interactiveshell import InteractiveShell\n",
    "#InteractiveShell.ast_node_interactivity = \"all\""
   ]
  },
  {
   "cell_type": "code",
   "execution_count": 49,
   "metadata": {},
   "outputs": [],
   "source": [
    "# Import csvs\n",
    "mouse_df=pd.read_csv(\"Resources/mouse_drug_data.csv\")\n",
    "trial_df=pd.read_csv(\"Resources/clinicaltrial_data.csv\")"
   ]
  },
  {
   "cell_type": "code",
   "execution_count": 50,
   "metadata": {},
   "outputs": [
    {
     "data": {
      "text/html": [
       "<div>\n",
       "<style scoped>\n",
       "    .dataframe tbody tr th:only-of-type {\n",
       "        vertical-align: middle;\n",
       "    }\n",
       "\n",
       "    .dataframe tbody tr th {\n",
       "        vertical-align: top;\n",
       "    }\n",
       "\n",
       "    .dataframe thead th {\n",
       "        text-align: right;\n",
       "    }\n",
       "</style>\n",
       "<table border=\"1\" class=\"dataframe\">\n",
       "  <thead>\n",
       "    <tr style=\"text-align: right;\">\n",
       "      <th></th>\n",
       "      <th>Mouse ID</th>\n",
       "      <th>Drug</th>\n",
       "      <th>Timepoint</th>\n",
       "      <th>Tumor Volume (mm3)</th>\n",
       "      <th>Metastatic Sites</th>\n",
       "    </tr>\n",
       "  </thead>\n",
       "  <tbody>\n",
       "    <tr>\n",
       "      <th>0</th>\n",
       "      <td>f234</td>\n",
       "      <td>Stelasyn</td>\n",
       "      <td>0</td>\n",
       "      <td>45.000000</td>\n",
       "      <td>0</td>\n",
       "    </tr>\n",
       "    <tr>\n",
       "      <th>1</th>\n",
       "      <td>f234</td>\n",
       "      <td>Stelasyn</td>\n",
       "      <td>5</td>\n",
       "      <td>47.313491</td>\n",
       "      <td>0</td>\n",
       "    </tr>\n",
       "    <tr>\n",
       "      <th>2</th>\n",
       "      <td>f234</td>\n",
       "      <td>Stelasyn</td>\n",
       "      <td>10</td>\n",
       "      <td>47.904324</td>\n",
       "      <td>0</td>\n",
       "    </tr>\n",
       "    <tr>\n",
       "      <th>3</th>\n",
       "      <td>f234</td>\n",
       "      <td>Stelasyn</td>\n",
       "      <td>15</td>\n",
       "      <td>48.735197</td>\n",
       "      <td>1</td>\n",
       "    </tr>\n",
       "    <tr>\n",
       "      <th>4</th>\n",
       "      <td>f234</td>\n",
       "      <td>Stelasyn</td>\n",
       "      <td>20</td>\n",
       "      <td>51.112713</td>\n",
       "      <td>2</td>\n",
       "    </tr>\n",
       "  </tbody>\n",
       "</table>\n",
       "</div>"
      ],
      "text/plain": [
       "  Mouse ID      Drug  Timepoint  Tumor Volume (mm3)  Metastatic Sites\n",
       "0     f234  Stelasyn          0           45.000000                 0\n",
       "1     f234  Stelasyn          5           47.313491                 0\n",
       "2     f234  Stelasyn         10           47.904324                 0\n",
       "3     f234  Stelasyn         15           48.735197                 1\n",
       "4     f234  Stelasyn         20           51.112713                 2"
      ]
     },
     "execution_count": 50,
     "metadata": {},
     "output_type": "execute_result"
    }
   ],
   "source": [
    "# Join the tables to create full dataframe\n",
    "full_df=pd.merge(mouse_df, trial_df, on='Mouse ID', how='outer') # Perform outer join to make sure all rows are accounted for\n",
    "full_df.head()"
   ]
  },
  {
   "cell_type": "code",
   "execution_count": 51,
   "metadata": {},
   "outputs": [],
   "source": [
    "# RUN TESTS ON FULL DATAFRAME TO MAKE SURE DATA IS CLEAN AND READY TO USE\n",
    "#----------------------------------------------------------------------------\n",
    "\n",
    "# Test dataframe data to make sure nothing weird is going on that I can't see.\n",
    "# This cell will be fully commented out at the end.\n",
    "\n",
    "# Test there are no NaN values in dataframe\n",
    "# full_df.isnull().sum() # This returns 0 for all columns, so there are no NaN values\n",
    "\n",
    "# Test what treatment types are in the dataframe\n",
    "# full_df['Drug'].unique() # This returns 10 different treatments but I only care about 4 of them. Define function below to filter based on each relevant treatment."
   ]
  },
  {
   "cell_type": "code",
   "execution_count": 74,
   "metadata": {},
   "outputs": [
    {
     "data": {
      "image/png": "[encoded data removed]",
      "text/plain": [
       "<Figure size 432x288 with 1 Axes>"
      ]
     },
     "metadata": {
      "needs_background": "light"
     },
     "output_type": "display_data"
    }
   ],
   "source": [
    "# SCATTERPLOT FOR AVERAGE TUMOR VOLUME FOR EACH TREATMENT VS. TIME \n",
    "#-------------------------------------------------------------------\n",
    "\n",
    "    # Step A: Create array of time values\n",
    "    # Step B: Define a function that takes a treatment name as an input and outputs a scatterplot with error bars\n",
    "        # Step B.1: Filter the dataframe to only have rows using a specific drug\n",
    "        # Step B.2: Calculate mean of tumor volume size for the specific drug at each timepoint\n",
    "        # Step B.3: Calculate sem (standard error of mean) of tumor volume size for the specific drug at each timepoint\n",
    "        # Step B.4: Plot the coordinate pairs (Timepoint, Tumor Volume (mm3)) on a scatter plot\n",
    "    # Step C: Call the function for the right treatments and apply final labels as appropriate\n",
    "    \n",
    "# Step A: Create array of time values (which will be our x-axis values)\n",
    "\n",
    "min_x=full_df['Timepoint'].min()\n",
    "max_x=full_df['Timepoint'].max()\n",
    "step=5\n",
    "    \n",
    "times=np.arange(min_x, max_x+step, step)\n",
    "\n",
    "# Step B: Define a function that takes a treatment name and scatterplot marker as an input and outputs a scatterplot with error bars\n",
    "\n",
    "def treatment(drug, marker):\n",
    "\n",
    "    # Step B.1: Filter the dataframe to only have rows using a specific drug\n",
    "    drug_bool=full_df['Drug']==drug # Define boolean that is true if the value in the drug column matches specific drug\n",
    "    drug_df=full_df[drug_bool] # Define a new filtered dataframe based on this boolean\n",
    "\n",
    "    # Step B.2: Calculate mean of tumor volume size for the specific drug at each timepoint\n",
    "    means=drug_df.groupby('Timepoint').mean()['Tumor Volume (mm3)'] # Create series indexed by timepoints with mean tumor volume as elements\n",
    "    means=means.values # Creates array based on series\n",
    "\n",
    "    # Step B.3: Calculate sem (standard error of mean) of tumor volume size for the specific drug at each timepoint\n",
    "    se_means=drug_df.groupby('Timepoint').sem()['Tumor Volume (mm3)'] # Create series indexed by timepoints with sem's as elements\n",
    "    se_means=se_means.values # Creates array based on series\n",
    "    \n",
    "    # Step B.4: Plot the coordinate pairs (Timepoint, Tumor Volume (mm3)) on a scatter plot\n",
    "    plt.errorbar(times, means, yerr=se_means, fmt=marker, alpha=0.75)\n",
    "    plt.title('Tumor Response to Treatment')\n",
    "    plt.xlabel('Time (days)')\n",
    "    plt.ylabel('Tumor Volume (mm3)')\n",
    "    plt.grid(True)\n",
    "    treatments=['Capomulin', 'Infubinol', 'Ketapril', 'Placebo']\n",
    "    plt.legend(treatments)\n",
    "    \n",
    "# Step C: Call the function for the right treatments and apply final labels as appropriate\n",
    "\n",
    "# Define list of markers we care about\n",
    "markers=['v--', '^--', 's--', 'D--']\n",
    "\n",
    "# Define for loop to call the function 4 times\n",
    "for i in range(len(treatments)):\n",
    "    treatment(treatments[i], markers[i])\n",
    "\n",
    "plt.show()"
   ]
  },
  {
   "cell_type": "code",
   "execution_count": null,
   "metadata": {},
   "outputs": [],
   "source": [
    "# SCATTERPLOT FOR NUMBER OF METASTATIC (CANCER SPREADING) SITES FOR EACH TREATMENT VS. TIME \n",
    "#----------------------------------------------------------------------------------------------\n",
    "\n"
   ]
  }
 ],
 "metadata": {
  "kernelspec": {
   "display_name": "Python 3",
   "language": "python",
   "name": "python3"
  },
  "language_info": {
   "codemirror_mode": {
    "name": "ipython",
    "version": 3
   },
   "file_extension": ".py",
   "mimetype": "text/x-python",
   "name": "python",
   "nbconvert_exporter": "python",
   "pygments_lexer": "ipython3",
   "version": "3.7.3"
  }
 },
 "nbformat": 4,
 "nbformat_minor": 2
}
